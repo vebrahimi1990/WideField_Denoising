{
 "cells": [
  {
   "cell_type": "code",
   "execution_count": null,
   "metadata": {
    "cellView": "form",
    "colab": {
     "base_uri": "https://localhost:8080/"
    },
    "id": "Tv4sbUfUXbVa",
    "outputId": "22b0628c-936e-4643-ac9a-d8bbb031c17e"
   },
   "outputs": [],
   "source": [
    "import numpy as np\n",
    "import tensorflow as tf\n",
    "import matplotlib.pyplot as plt\n",
    "\n",
    "gpus = tf.config.list_physical_devices('GPU')\n",
    "if gpus:\n",
    "    try:\n",
    "        tf.config.set_logical_device_configuration(\n",
    "            gpus[0],\n",
    "            [tf.config.LogicalDeviceConfiguration(memory_limit=12000)])\n",
    "        logical_gpus = tf.config.list_logical_devices('GPU')\n",
    "        print(len(gpus), \"Physical GPUs,\", len(logical_gpus), \"Logical GPUs\")\n",
    "    except RuntimeError as e:\n",
    "        print(e)\n",
    "\n",
    "from tensorflow import keras\n",
    "from keras.models import Input\n",
    "from keras.callbacks import ModelCheckpoint, EarlyStopping, ReduceLROnPlateau,LearningRateScheduler\n",
    "\n",
    "from datagenerator_2D import data_generator\n",
    "from Model_2D_RCAN import make_generator\n",
    "from loss_2D import generator_loss"
   ]
  },
  {
   "cell_type": "code",
   "execution_count": null,
   "metadata": {
    "cellView": "form",
    "id": "kp_fudHmSiXl",
    "scrolled": true
   },
   "outputs": [],
   "source": [
    "patch_size = 256\n",
    "n_patches =  16\n",
    "channel_n =  0\n",
    "\n",
    "\n",
    "augment = False\n",
    "shuffle = True\n",
    "add_noise= False\n",
    "l_poisson = 1.235\n",
    "\n",
    "threshold = 0.0\n",
    "ratio = 1.0\n",
    "\n",
    "GT_image_dr = r'D:\\Projects\\Denoising-STED\\20220913-RPI\\UNet-RCAN-different psnr\\sequential\\train\\drift\\dAverage.tif'\n",
    "lowSNR_image_dr =r'D:\\Projects\\Denoising-STED\\20220913-RPI\\UNet-RCAN-different psnr\\sequential\\train\\drift\\d1frame.tif'\n",
    "\n",
    "x_train, y_train, x_valid, y_valid = data_generator(GT_image_dr, lowSNR_image_dr, patch_size, n_patches,\n",
    "                                                    n_channel=channel_n, threshold,ratio,lp=l_poisson, augment=augment, \n",
    "                                                    shuffle=shuffle,add_noise=add_noise)"
   ]
  },
  {
   "cell_type": "code",
   "execution_count": null,
   "metadata": {
    "scrolled": false
   },
   "outputs": [],
   "source": [
    "ix = np.random.randint(0,len(x_train),4)\n",
    "fig = plt.figure(figsize=(15,7))\n",
    "\n",
    "for i in range(4):\n",
    "    norm_x = np.linalg.norm(x_train[ix[i]], axis=(0, 1))\n",
    "    fig.add_subplot(2,4, 2*i+1)\n",
    "    cmap=plt.get_cmap('magma')\n",
    "    plt.imshow(x_train[ix[i],:,:,0].squeeze(),cmap)\n",
    "    plt.title('Low SNR',fontdict={'fontsize':18})\n",
    "    plt_axis = plt.axis('off')\n",
    "    \n",
    "    fig.add_subplot(2,4, 2*i+2)\n",
    "    cmap=plt.get_cmap('magma')\n",
    "    plt.imshow(y_train[ix[i],:,:,0].squeeze(),cmap)\n",
    "    plt.title('High SNR',fontdict={'fontsize':18})\n",
    "    plt_axis = plt.axis('off')"
   ]
  },
  {
   "cell_type": "code",
   "execution_count": null,
   "metadata": {
    "cellView": "form",
    "id": "6d2Xe1vBN_r_"
   },
   "outputs": [],
   "source": [
    "filters =[32,128,256]\n",
    "\n",
    "num_filters = filters[0]\n",
    "r = 8\n",
    "filters_cab=num_filters/r\n",
    "num_RG=5\n",
    "num_RCAB=5\n",
    "\n",
    "generator_input = Input((patch_size, patch_size,1))\n",
    "generator = make_generator(generator_input, filters, num_filters,filters_cab,num_RG,num_RCAB,\n",
    "                           kernel_shape=3,dropout=0.2)"
   ]
  },
  {
   "cell_type": "code",
   "execution_count": null,
   "metadata": {},
   "outputs": [],
   "source": [
    "model_save_directory = r\"D:\\Projects\\Denoising-STED\\20220913-RPI\\UNet-RCAN-different psnr\\sequential\\mitochondria_lp_1.235.h5\" \n",
    "n_epochs =  200\n",
    "gen_lr = 5e-5\n",
    "batch_size = 1\n",
    "\n",
    "gen_opt = keras.optimizers.Adam(learning_rate=gen_lr)\n",
    "generator.compile(optimizer=gen_opt, loss=generator_loss)\n",
    "\n",
    "callbacks = [\n",
    "    EarlyStopping(patience=50, verbose=1),\n",
    "    ReduceLROnPlateau(monitor='val_loss',factor=0.2,patience=5),\n",
    "    ModelCheckpoint(filepath=model_save_directory, verbose=1, save_best_only=True, save_weights_only=True)]"
   ]
  },
  {
   "cell_type": "code",
   "execution_count": null,
   "metadata": {},
   "outputs": [],
   "source": [
    "# load_model_directory = r\"D:\\Projects\\Denoising-STED\\20220913-RPI\\STED power dependence\\tubulin\\tubulin_STED70.h5\" \n",
    "# generator.load_weights(load_save_directory)"
   ]
  },
  {
   "cell_type": "code",
   "execution_count": null,
   "metadata": {
    "scrolled": true
   },
   "outputs": [],
   "source": [
    "results = generator.fit(x=x_train,y=y_train, batch_size=batch_size, epochs=n_epochs,verbose=1,\n",
    "                        callbacks=callbacks,validation_split=0.1)"
   ]
  },
  {
   "cell_type": "code",
   "execution_count": null,
   "metadata": {},
   "outputs": [],
   "source": []
  }
 ],
 "metadata": {
  "accelerator": "GPU",
  "colab": {
   "collapsed_sections": [],
   "name": "Denoising_UNET_RCAN_3D.ipynb",
   "provenance": []
  },
  "gpuClass": "standard",
  "kernelspec": {
   "display_name": "Python 3 (ipykernel)",
   "language": "python",
   "name": "python3"
  },
  "language_info": {
   "codemirror_mode": {
    "name": "ipython",
    "version": 3
   },
   "file_extension": ".py",
   "mimetype": "text/x-python",
   "name": "python",
   "nbconvert_exporter": "python",
   "pygments_lexer": "ipython3",
   "version": "3.8.0"
  }
 },
 "nbformat": 4,
 "nbformat_minor": 1
}
